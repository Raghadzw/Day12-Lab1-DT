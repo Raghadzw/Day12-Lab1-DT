{
  "cells": [
    {
      "cell_type": "markdown",
      "id": "d985f77b",
      "metadata": {
        "id": "d985f77b"
      },
      "source": [
        "|  Column name  |  Description  |\n",
        "| ----- | ------- |\n",
        "| Num_posts        | Number of total posts that the user has ever posted   |\n",
        "| Num_following    | Number of following                                   |\n",
        "| Num_followers    | Number of followers                                   |\n",
        "| Biography_length | Length (number of characters) of the user's biography |\n",
        "| Picture_availability | Value 0 if the user has no profile picture, or 1 if has |\n",
        "| Link_availability| Value 0 if the user has no external URL, or 1 if has |\n",
        "| Average_caption_length | The average number of character of captions in media |\n",
        "| Caption_zero     | Percentage (0.0 to 1.0) of captions that has almost zero (<=3) length |\n",
        "| Non_image_percentage | Percentage (0.0 to 1.0) of non-image media. There are three types of media on an Instagram post, i.e. image, video, carousel\n",
        "| Engagement_rate_like | Engagement rate (ER) is commonly defined as (num likes) divide by (num media) divide by (num followers)\n",
        "| Engagement_rate_comment | Similar to ER like, but it is for comments |\n",
        "| Location_tag_percentage | Percentage (0.0 to 1.0) of posts tagged with location |\n",
        "| Average_hashtag_count   | Average number of hashtags used in a post |\n",
        "| Promotional_keywords | Average use of promotional keywords in hashtag, i.e. regrann, contest, repost, giveaway, mention, share, give away, quiz |\n",
        "| Followers_keywords | Average use of followers hunter keywords in hashtag, i.e. follow, like, folback, follback, f4f|\n",
        "| Cosine_similarity  | Average cosine similarity of between all pair of two posts a user has |\n",
        "| Post_interval      | Average interval between posts (in hours) |\n",
        "| real_fake          | r (real/authentic user), f (fake user/bought followers) |"
      ]
    },
    {
      "cell_type": "markdown",
      "id": "0589474a",
      "metadata": {
        "id": "0589474a"
      },
      "source": [
        "# Q1: Import labraries"
      ]
    },
    {
      "cell_type": "code",
      "execution_count": 107,
      "id": "13f00a6a",
      "metadata": {
        "id": "13f00a6a"
      },
      "outputs": [],
      "source": [
        "import warnings\n",
        "warnings.filterwarnings(\"ignore\")\n",
        "import pandas as pd\n",
        "import numpy as np\n",
        "import matplotlib.pyplot as plt\n",
        "import seaborn as sns\n",
        "%matplotlib inline"
      ]
    },
    {
      "cell_type": "markdown",
      "id": "fc2557da",
      "metadata": {
        "id": "fc2557da"
      },
      "source": [
        "# Q2: Read instagram_users.csv file"
      ]
    },
    {
      "cell_type": "code",
      "execution_count": 109,
      "id": "f7c3f583",
      "metadata": {
        "id": "f7c3f583"
      },
      "outputs": [],
      "source": [
        "df = pd.read_csv(\"/content/instagram_users.csv\")"
      ]
    },
    {
      "cell_type": "markdown",
      "id": "2fd48ba4",
      "metadata": {
        "id": "2fd48ba4"
      },
      "source": [
        "# Q3: Split tha dataset into training and testing"
      ]
    },
    {
      "cell_type": "code",
      "execution_count": 115,
      "id": "9e94233d",
      "metadata": {
        "id": "9e94233d"
      },
      "outputs": [],
      "source": [
        "from sklearn.model_selection import train_test_split"
      ]
    },
    {
      "cell_type": "code",
      "source": [
        "df.head()"
      ],
      "metadata": {
        "colab": {
          "base_uri": "https://localhost:8080/",
          "height": 270
        },
        "id": "78a1ZjUTDPRd",
        "outputId": "6ed7e65f-b9b2-4cab-f1c1-b42eec0fe58c"
      },
      "id": "78a1ZjUTDPRd",
      "execution_count": 116,
      "outputs": [
        {
          "output_type": "execute_result",
          "data": {
            "text/plain": [
              "    Num_posts  Num_following  Num_followers  Biography_length  \\\n",
              "0          44             48            325                33   \n",
              "1          10             66            321               150   \n",
              "2          33            970            308               101   \n",
              "3          70             86            360                14   \n",
              "4           3             21            285                73   \n",
              "\n",
              "   Picture_availability  Link_availability  Average_caption_length  \\\n",
              "0                     1                  0                      12   \n",
              "1                     1                  0                     213   \n",
              "2                     1                  1                     436   \n",
              "3                     1                  0                       0   \n",
              "4                     1                  0                      93   \n",
              "\n",
              "   Caption_zero  Non_image_percentage  Engagement_rate_like  \\\n",
              "0           0.0                   0.0                  0.00   \n",
              "1           0.0                   1.0                 14.39   \n",
              "2           0.0                   1.0                 10.10   \n",
              "3           1.0                   0.0                  0.78   \n",
              "4           0.0                   0.0                 14.29   \n",
              "\n",
              "   Engagement_rate_comment  Location_tag_percentage  Average_hashtag_count  \\\n",
              "0                     0.00                    0.000                    0.0   \n",
              "1                     1.97                    0.000                    1.5   \n",
              "2                     0.30                    0.000                    2.5   \n",
              "3                     0.06                    0.000                    0.0   \n",
              "4                     0.00                    0.667                    0.0   \n",
              "\n",
              "   Promotional_keywords  Followers_keywords  Cosine_similarity  Post_interval  \\\n",
              "0                   0.0               0.000           0.111111       0.094985   \n",
              "1                   0.0               0.000           0.206826     230.412857   \n",
              "2                   0.0               0.056           0.572174      43.569939   \n",
              "3                   0.0               0.000           1.000000       5.859799   \n",
              "4                   0.0               0.000           0.300494       0.126019   \n",
              "\n",
              "  real_fake  \n",
              "0      fake  \n",
              "1      fake  \n",
              "2      fake  \n",
              "3      fake  \n",
              "4      fake  "
            ],
            "text/html": [
              "\n",
              "  <div id=\"df-ddfa80a4-ef60-44cc-b092-5060ecf07c2d\">\n",
              "    <div class=\"colab-df-container\">\n",
              "      <div>\n",
              "<style scoped>\n",
              "    .dataframe tbody tr th:only-of-type {\n",
              "        vertical-align: middle;\n",
              "    }\n",
              "\n",
              "    .dataframe tbody tr th {\n",
              "        vertical-align: top;\n",
              "    }\n",
              "\n",
              "    .dataframe thead th {\n",
              "        text-align: right;\n",
              "    }\n",
              "</style>\n",
              "<table border=\"1\" class=\"dataframe\">\n",
              "  <thead>\n",
              "    <tr style=\"text-align: right;\">\n",
              "      <th></th>\n",
              "      <th>Num_posts</th>\n",
              "      <th>Num_following</th>\n",
              "      <th>Num_followers</th>\n",
              "      <th>Biography_length</th>\n",
              "      <th>Picture_availability</th>\n",
              "      <th>Link_availability</th>\n",
              "      <th>Average_caption_length</th>\n",
              "      <th>Caption_zero</th>\n",
              "      <th>Non_image_percentage</th>\n",
              "      <th>Engagement_rate_like</th>\n",
              "      <th>Engagement_rate_comment</th>\n",
              "      <th>Location_tag_percentage</th>\n",
              "      <th>Average_hashtag_count</th>\n",
              "      <th>Promotional_keywords</th>\n",
              "      <th>Followers_keywords</th>\n",
              "      <th>Cosine_similarity</th>\n",
              "      <th>Post_interval</th>\n",
              "      <th>real_fake</th>\n",
              "    </tr>\n",
              "  </thead>\n",
              "  <tbody>\n",
              "    <tr>\n",
              "      <th>0</th>\n",
              "      <td>44</td>\n",
              "      <td>48</td>\n",
              "      <td>325</td>\n",
              "      <td>33</td>\n",
              "      <td>1</td>\n",
              "      <td>0</td>\n",
              "      <td>12</td>\n",
              "      <td>0.0</td>\n",
              "      <td>0.0</td>\n",
              "      <td>0.00</td>\n",
              "      <td>0.00</td>\n",
              "      <td>0.000</td>\n",
              "      <td>0.0</td>\n",
              "      <td>0.0</td>\n",
              "      <td>0.000</td>\n",
              "      <td>0.111111</td>\n",
              "      <td>0.094985</td>\n",
              "      <td>fake</td>\n",
              "    </tr>\n",
              "    <tr>\n",
              "      <th>1</th>\n",
              "      <td>10</td>\n",
              "      <td>66</td>\n",
              "      <td>321</td>\n",
              "      <td>150</td>\n",
              "      <td>1</td>\n",
              "      <td>0</td>\n",
              "      <td>213</td>\n",
              "      <td>0.0</td>\n",
              "      <td>1.0</td>\n",
              "      <td>14.39</td>\n",
              "      <td>1.97</td>\n",
              "      <td>0.000</td>\n",
              "      <td>1.5</td>\n",
              "      <td>0.0</td>\n",
              "      <td>0.000</td>\n",
              "      <td>0.206826</td>\n",
              "      <td>230.412857</td>\n",
              "      <td>fake</td>\n",
              "    </tr>\n",
              "    <tr>\n",
              "      <th>2</th>\n",
              "      <td>33</td>\n",
              "      <td>970</td>\n",
              "      <td>308</td>\n",
              "      <td>101</td>\n",
              "      <td>1</td>\n",
              "      <td>1</td>\n",
              "      <td>436</td>\n",
              "      <td>0.0</td>\n",
              "      <td>1.0</td>\n",
              "      <td>10.10</td>\n",
              "      <td>0.30</td>\n",
              "      <td>0.000</td>\n",
              "      <td>2.5</td>\n",
              "      <td>0.0</td>\n",
              "      <td>0.056</td>\n",
              "      <td>0.572174</td>\n",
              "      <td>43.569939</td>\n",
              "      <td>fake</td>\n",
              "    </tr>\n",
              "    <tr>\n",
              "      <th>3</th>\n",
              "      <td>70</td>\n",
              "      <td>86</td>\n",
              "      <td>360</td>\n",
              "      <td>14</td>\n",
              "      <td>1</td>\n",
              "      <td>0</td>\n",
              "      <td>0</td>\n",
              "      <td>1.0</td>\n",
              "      <td>0.0</td>\n",
              "      <td>0.78</td>\n",
              "      <td>0.06</td>\n",
              "      <td>0.000</td>\n",
              "      <td>0.0</td>\n",
              "      <td>0.0</td>\n",
              "      <td>0.000</td>\n",
              "      <td>1.000000</td>\n",
              "      <td>5.859799</td>\n",
              "      <td>fake</td>\n",
              "    </tr>\n",
              "    <tr>\n",
              "      <th>4</th>\n",
              "      <td>3</td>\n",
              "      <td>21</td>\n",
              "      <td>285</td>\n",
              "      <td>73</td>\n",
              "      <td>1</td>\n",
              "      <td>0</td>\n",
              "      <td>93</td>\n",
              "      <td>0.0</td>\n",
              "      <td>0.0</td>\n",
              "      <td>14.29</td>\n",
              "      <td>0.00</td>\n",
              "      <td>0.667</td>\n",
              "      <td>0.0</td>\n",
              "      <td>0.0</td>\n",
              "      <td>0.000</td>\n",
              "      <td>0.300494</td>\n",
              "      <td>0.126019</td>\n",
              "      <td>fake</td>\n",
              "    </tr>\n",
              "  </tbody>\n",
              "</table>\n",
              "</div>\n",
              "      <button class=\"colab-df-convert\" onclick=\"convertToInteractive('df-ddfa80a4-ef60-44cc-b092-5060ecf07c2d')\"\n",
              "              title=\"Convert this dataframe to an interactive table.\"\n",
              "              style=\"display:none;\">\n",
              "        \n",
              "  <svg xmlns=\"http://www.w3.org/2000/svg\" height=\"24px\"viewBox=\"0 0 24 24\"\n",
              "       width=\"24px\">\n",
              "    <path d=\"M0 0h24v24H0V0z\" fill=\"none\"/>\n",
              "    <path d=\"M18.56 5.44l.94 2.06.94-2.06 2.06-.94-2.06-.94-.94-2.06-.94 2.06-2.06.94zm-11 1L8.5 8.5l.94-2.06 2.06-.94-2.06-.94L8.5 2.5l-.94 2.06-2.06.94zm10 10l.94 2.06.94-2.06 2.06-.94-2.06-.94-.94-2.06-.94 2.06-2.06.94z\"/><path d=\"M17.41 7.96l-1.37-1.37c-.4-.4-.92-.59-1.43-.59-.52 0-1.04.2-1.43.59L10.3 9.45l-7.72 7.72c-.78.78-.78 2.05 0 2.83L4 21.41c.39.39.9.59 1.41.59.51 0 1.02-.2 1.41-.59l7.78-7.78 2.81-2.81c.8-.78.8-2.07 0-2.86zM5.41 20L4 18.59l7.72-7.72 1.47 1.35L5.41 20z\"/>\n",
              "  </svg>\n",
              "      </button>\n",
              "      \n",
              "  <style>\n",
              "    .colab-df-container {\n",
              "      display:flex;\n",
              "      flex-wrap:wrap;\n",
              "      gap: 12px;\n",
              "    }\n",
              "\n",
              "    .colab-df-convert {\n",
              "      background-color: #E8F0FE;\n",
              "      border: none;\n",
              "      border-radius: 50%;\n",
              "      cursor: pointer;\n",
              "      display: none;\n",
              "      fill: #1967D2;\n",
              "      height: 32px;\n",
              "      padding: 0 0 0 0;\n",
              "      width: 32px;\n",
              "    }\n",
              "\n",
              "    .colab-df-convert:hover {\n",
              "      background-color: #E2EBFA;\n",
              "      box-shadow: 0px 1px 2px rgba(60, 64, 67, 0.3), 0px 1px 3px 1px rgba(60, 64, 67, 0.15);\n",
              "      fill: #174EA6;\n",
              "    }\n",
              "\n",
              "    [theme=dark] .colab-df-convert {\n",
              "      background-color: #3B4455;\n",
              "      fill: #D2E3FC;\n",
              "    }\n",
              "\n",
              "    [theme=dark] .colab-df-convert:hover {\n",
              "      background-color: #434B5C;\n",
              "      box-shadow: 0px 1px 3px 1px rgba(0, 0, 0, 0.15);\n",
              "      filter: drop-shadow(0px 1px 2px rgba(0, 0, 0, 0.3));\n",
              "      fill: #FFFFFF;\n",
              "    }\n",
              "  </style>\n",
              "\n",
              "      <script>\n",
              "        const buttonEl =\n",
              "          document.querySelector('#df-ddfa80a4-ef60-44cc-b092-5060ecf07c2d button.colab-df-convert');\n",
              "        buttonEl.style.display =\n",
              "          google.colab.kernel.accessAllowed ? 'block' : 'none';\n",
              "\n",
              "        async function convertToInteractive(key) {\n",
              "          const element = document.querySelector('#df-ddfa80a4-ef60-44cc-b092-5060ecf07c2d');\n",
              "          const dataTable =\n",
              "            await google.colab.kernel.invokeFunction('convertToInteractive',\n",
              "                                                     [key], {});\n",
              "          if (!dataTable) return;\n",
              "\n",
              "          const docLinkHtml = 'Like what you see? Visit the ' +\n",
              "            '<a target=\"_blank\" href=https://colab.research.google.com/notebooks/data_table.ipynb>data table notebook</a>'\n",
              "            + ' to learn more about interactive tables.';\n",
              "          element.innerHTML = '';\n",
              "          dataTable['output_type'] = 'display_data';\n",
              "          await google.colab.output.renderOutput(dataTable, element);\n",
              "          const docLink = document.createElement('div');\n",
              "          docLink.innerHTML = docLinkHtml;\n",
              "          element.appendChild(docLink);\n",
              "        }\n",
              "      </script>\n",
              "    </div>\n",
              "  </div>\n",
              "  "
            ]
          },
          "metadata": {},
          "execution_count": 116
        }
      ]
    },
    {
      "cell_type": "code",
      "execution_count": 117,
      "metadata": {
        "id": "Y3N-h7ITzLdw"
      },
      "outputs": [],
      "source": [
        "df2 = pd.DataFrame(df)"
      ],
      "id": "Y3N-h7ITzLdw"
    },
    {
      "cell_type": "code",
      "source": [
        "X = df2[[ \"Num_following\" ,\t\"Num_followers\" ,\t\"Biography_length\" ,\t\"Picture_availability\" ,\"Link_availability\" ,\t\n",
        "        \"Average_caption_length\" ,\"Caption_zero\" ,\"Non_image_percentage\" ,\"Engagement_rate_like\" ,\"Engagement_rate_comment\" \n",
        "        ,\t\"Location_tag_percentage\"\t, \"Average_hashtag_count\"\t, \"Promotional_keywords\" ,\t\"Followers_keywords\" ,\t\"Cosine_similarity\"\t,\"Post_interval\"]]\n",
        "y = df2[\"real_fake\"] "
      ],
      "metadata": {
        "id": "2CCd2iXD1rVc"
      },
      "id": "2CCd2iXD1rVc",
      "execution_count": 118,
      "outputs": []
    },
    {
      "cell_type": "code",
      "source": [
        "X_train, X_test, y_train, y_test = train_test_split(X, y, test_size=0.30)"
      ],
      "metadata": {
        "id": "-dW8h_t71vBG"
      },
      "id": "-dW8h_t71vBG",
      "execution_count": 119,
      "outputs": []
    },
    {
      "cell_type": "markdown",
      "id": "6db25de6",
      "metadata": {
        "id": "6db25de6"
      },
      "source": [
        "# Q4: Build three machine models "
      ]
    },
    {
      "cell_type": "markdown",
      "id": "2a9943d1",
      "metadata": {
        "id": "2a9943d1"
      },
      "source": [
        "## Q4.1: The first machine model\n",
        "- Print the model's name.\n",
        "- Print the model's accuracy.\n",
        "- Print the model's confusion matrix."
      ]
    },
    {
      "cell_type": "code",
      "execution_count": 120,
      "id": "0e8f4d29",
      "metadata": {
        "id": "0e8f4d29"
      },
      "outputs": [],
      "source": [
        "from sklearn.tree import DecisionTreeClassifier"
      ]
    },
    {
      "cell_type": "code",
      "source": [
        "dtree = DecisionTreeClassifier()"
      ],
      "metadata": {
        "id": "dnEf5tPB2JJ1"
      },
      "id": "dnEf5tPB2JJ1",
      "execution_count": 121,
      "outputs": []
    },
    {
      "cell_type": "code",
      "source": [
        "dtree.fit(X_train,y_train)"
      ],
      "metadata": {
        "colab": {
          "base_uri": "https://localhost:8080/"
        },
        "id": "S38w8M1D2cKy",
        "outputId": "3a524e93-47a6-49ba-df78-aefaac627cba"
      },
      "id": "S38w8M1D2cKy",
      "execution_count": 122,
      "outputs": [
        {
          "output_type": "execute_result",
          "data": {
            "text/plain": [
              "DecisionTreeClassifier()"
            ]
          },
          "metadata": {},
          "execution_count": 122
        }
      ]
    },
    {
      "cell_type": "code",
      "source": [
        "predictions = dtree.predict(X_test)"
      ],
      "metadata": {
        "id": "2t1OiOIj2cTR"
      },
      "id": "2t1OiOIj2cTR",
      "execution_count": 123,
      "outputs": []
    },
    {
      "cell_type": "code",
      "source": [
        "from sklearn.metrics import classification_report,confusion_matrix, accuracy_score"
      ],
      "metadata": {
        "id": "C0DFbqcOF35R"
      },
      "id": "C0DFbqcOF35R",
      "execution_count": 148,
      "outputs": []
    },
    {
      "cell_type": "code",
      "source": [
        "print(classification_report(y_test,predictions))"
      ],
      "metadata": {
        "colab": {
          "base_uri": "https://localhost:8080/"
        },
        "id": "hmU8hPOsF93K",
        "outputId": "6ac31493-391c-4ef7-c4ff-b3f81e4578c4"
      },
      "id": "hmU8hPOsF93K",
      "execution_count": 125,
      "outputs": [
        {
          "output_type": "stream",
          "name": "stdout",
          "text": [
            "              precision    recall  f1-score   support\n",
            "\n",
            "        fake       0.85      0.86      0.85      9495\n",
            "        real       0.86      0.85      0.85      9779\n",
            "\n",
            "    accuracy                           0.85     19274\n",
            "   macro avg       0.85      0.85      0.85     19274\n",
            "weighted avg       0.85      0.85      0.85     19274\n",
            "\n"
          ]
        }
      ]
    },
    {
      "cell_type": "code",
      "source": [
        "print(accuracy_score(y_test,predictions))"
      ],
      "metadata": {
        "colab": {
          "base_uri": "https://localhost:8080/"
        },
        "id": "3fl8ejvkGFHQ",
        "outputId": "5b3e5b5f-9818-4900-a053-1db57868be16"
      },
      "id": "3fl8ejvkGFHQ",
      "execution_count": 126,
      "outputs": [
        {
          "output_type": "stream",
          "name": "stdout",
          "text": [
            "0.8524955899138736\n"
          ]
        }
      ]
    },
    {
      "cell_type": "code",
      "source": [
        "print(confusion_matrix(y_test,predictions))"
      ],
      "metadata": {
        "colab": {
          "base_uri": "https://localhost:8080/"
        },
        "id": "t7y4QvaFGJOy",
        "outputId": "b915be9e-799a-4b5c-81f0-71a7916b9dfc"
      },
      "id": "t7y4QvaFGJOy",
      "execution_count": 137,
      "outputs": [
        {
          "output_type": "stream",
          "name": "stdout",
          "text": [
            "[[8131 1364]\n",
            " [1479 8300]]\n"
          ]
        }
      ]
    },
    {
      "cell_type": "markdown",
      "id": "55c11dc4",
      "metadata": {
        "id": "55c11dc4"
      },
      "source": [
        "## Q4.2: The second machine model\n",
        "- Print the model's name.\n",
        "- Print the model's accuracy.\n",
        "- Print the model's confusion matrix."
      ]
    },
    {
      "cell_type": "code",
      "source": [
        "from sklearn.ensemble import RandomForestClassifier\n",
        "\n",
        "\n",
        "clf=RandomForestClassifier(n_estimators=100)\n",
        "\n",
        "clf.fit(X_train,y_train)\n",
        "\n",
        "y_pred=clf.predict(X_test)"
      ],
      "metadata": {
        "id": "kI_UVch9gIwz"
      },
      "id": "kI_UVch9gIwz",
      "execution_count": 142,
      "outputs": []
    },
    {
      "cell_type": "code",
      "source": [
        "from sklearn import metrics\n",
        "print(\"Accuracy:\",metrics.accuracy_score(y_test, y_pred))"
      ],
      "metadata": {
        "colab": {
          "base_uri": "https://localhost:8080/"
        },
        "id": "QOJXsfwrgT37",
        "outputId": "5358f424-8f4b-4f43-f412-24c75326269a"
      },
      "id": "QOJXsfwrgT37",
      "execution_count": 143,
      "outputs": [
        {
          "output_type": "stream",
          "name": "stdout",
          "text": [
            "Accuracy: 0.8995019196845492\n"
          ]
        }
      ]
    },
    {
      "cell_type": "code",
      "source": [
        "confusion_matrix(y_test, y_pred)"
      ],
      "metadata": {
        "colab": {
          "base_uri": "https://localhost:8080/"
        },
        "id": "mzuRbKDRi7Kf",
        "outputId": "35b46cad-a6fe-4e64-9b89-f612b9138421"
      },
      "id": "mzuRbKDRi7Kf",
      "execution_count": 151,
      "outputs": [
        {
          "output_type": "execute_result",
          "data": {
            "text/plain": [
              "array([[7975, 1520],\n",
              "       [ 417, 9362]])"
            ]
          },
          "metadata": {},
          "execution_count": 151
        }
      ]
    },
    {
      "cell_type": "markdown",
      "id": "311f9f19",
      "metadata": {
        "id": "311f9f19"
      },
      "source": [
        "## Q4.3: The third machine model\n",
        "- Print the model's name.\n",
        "- Print the model's accuracy.\n",
        "- Print the model's confusion matrix."
      ]
    },
    {
      "cell_type": "code",
      "execution_count": 152,
      "id": "f73c0c18",
      "metadata": {
        "id": "f73c0c18"
      },
      "outputs": [],
      "source": [
        "from sklearn.linear_model import LogisticRegression\n",
        "logmodel = LogisticRegression()\n",
        "logmodel.fit(X_train,y_train)\n",
        "predictions = logmodel.predict(X_test)"
      ]
    },
    {
      "cell_type": "code",
      "source": [
        "from sklearn import metrics\n",
        "print(\"Accuracy:\",metrics.accuracy_score(y_test, predictions))"
      ],
      "metadata": {
        "colab": {
          "base_uri": "https://localhost:8080/"
        },
        "outputId": "749ed297-6197-4dd8-fc34-3de0c9ebaaab",
        "id": "duoKg3f2lTYe"
      },
      "execution_count": 154,
      "outputs": [
        {
          "output_type": "stream",
          "name": "stdout",
          "text": [
            "Accuracy: 0.8064231607346685\n"
          ]
        }
      ],
      "id": "duoKg3f2lTYe"
    },
    {
      "cell_type": "code",
      "source": [
        "confusion_matrix(y_test , predictions)"
      ],
      "metadata": {
        "colab": {
          "base_uri": "https://localhost:8080/"
        },
        "id": "uf7XUchtlAri",
        "outputId": "cf95c455-ea57-4043-8340-0ff080fe4770"
      },
      "id": "uf7XUchtlAri",
      "execution_count": 156,
      "outputs": [
        {
          "output_type": "execute_result",
          "data": {
            "text/plain": [
              "array([[7477, 2018],\n",
              "       [1713, 8066]])"
            ]
          },
          "metadata": {},
          "execution_count": 156
        }
      ]
    }
  ],
  "metadata": {
    "kernelspec": {
      "display_name": "Python 3",
      "language": "python",
      "name": "python3"
    },
    "language_info": {
      "codemirror_mode": {
        "name": "ipython",
        "version": 3
      },
      "file_extension": ".py",
      "mimetype": "text/x-python",
      "name": "python",
      "nbconvert_exporter": "python",
      "pygments_lexer": "ipython3",
      "version": "3.8.8"
    },
    "colab": {
      "name": "Day#12_Decision_Trees_Assignment.ipynb.txt",
      "provenance": [],
      "collapsed_sections": []
    }
  },
  "nbformat": 4,
  "nbformat_minor": 5
}